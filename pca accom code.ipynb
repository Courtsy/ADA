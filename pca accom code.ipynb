{
 "cells": [
  {
   "cell_type": "markdown",
   "id": "9b37c6a9",
   "metadata": {},
   "source": [
    "# Code for my second projection - PCA"
   ]
  },
  {
   "cell_type": "code",
   "execution_count": 2,
   "id": "da5c0210",
   "metadata": {},
   "outputs": [],
   "source": [
    "#importing the relevant library\n",
    "import pandas as pd\n",
    "\n",
    "#saving the preprocessed data in a dataframe\n",
    "accom_df = pd.read_csv('Ethnic by tenure by acc.csv')\n",
    "accom_df = accom_df.dropna()"
   ]
  },
  {
   "cell_type": "code",
   "execution_count": 3,
   "id": "4ec87cb0",
   "metadata": {},
   "outputs": [
    {
     "data": {
      "text/html": [
       "<div>\n",
       "<style scoped>\n",
       "    .dataframe tbody tr th:only-of-type {\n",
       "        vertical-align: middle;\n",
       "    }\n",
       "\n",
       "    .dataframe tbody tr th {\n",
       "        vertical-align: top;\n",
       "    }\n",
       "\n",
       "    .dataframe thead th {\n",
       "        text-align: right;\n",
       "    }\n",
       "</style>\n",
       "<table border=\"1\" class=\"dataframe\">\n",
       "  <thead>\n",
       "    <tr style=\"text-align: right;\">\n",
       "      <th></th>\n",
       "      <th>Lower tier local authorities</th>\n",
       "      <th>Ethnic group</th>\n",
       "      <th>Accommodation type</th>\n",
       "      <th>Tenure of household</th>\n",
       "      <th>Observation</th>\n",
       "    </tr>\n",
       "  </thead>\n",
       "  <tbody>\n",
       "    <tr>\n",
       "      <th>0</th>\n",
       "      <td>Hartlepool</td>\n",
       "      <td>Asian, Asian British or Asian Welsh</td>\n",
       "      <td>Whole house or bungalow: Detached</td>\n",
       "      <td>Owned: Owns outright</td>\n",
       "      <td>137</td>\n",
       "    </tr>\n",
       "    <tr>\n",
       "      <th>1</th>\n",
       "      <td>Hartlepool</td>\n",
       "      <td>Asian, Asian British or Asian Welsh</td>\n",
       "      <td>Whole house or bungalow: Detached</td>\n",
       "      <td>Owned: Owns with a mortgage or loan or shared ...</td>\n",
       "      <td>258</td>\n",
       "    </tr>\n",
       "    <tr>\n",
       "      <th>2</th>\n",
       "      <td>Hartlepool</td>\n",
       "      <td>Asian, Asian British or Asian Welsh</td>\n",
       "      <td>Whole house or bungalow: Detached</td>\n",
       "      <td>Social rented: Rents from council or Local Aut...</td>\n",
       "      <td>20</td>\n",
       "    </tr>\n",
       "    <tr>\n",
       "      <th>3</th>\n",
       "      <td>Hartlepool</td>\n",
       "      <td>Asian, Asian British or Asian Welsh</td>\n",
       "      <td>Whole house or bungalow: Detached</td>\n",
       "      <td>Social rented: Other social rented</td>\n",
       "      <td>11</td>\n",
       "    </tr>\n",
       "    <tr>\n",
       "      <th>4</th>\n",
       "      <td>Hartlepool</td>\n",
       "      <td>Asian, Asian British or Asian Welsh</td>\n",
       "      <td>Whole house or bungalow: Detached</td>\n",
       "      <td>Private rented: Private landlord or letting ag...</td>\n",
       "      <td>44</td>\n",
       "    </tr>\n",
       "  </tbody>\n",
       "</table>\n",
       "</div>"
      ],
      "text/plain": [
       "  Lower tier local authorities                        Ethnic group    \n",
       "0                   Hartlepool  Asian, Asian British or Asian Welsh  \\\n",
       "1                   Hartlepool  Asian, Asian British or Asian Welsh   \n",
       "2                   Hartlepool  Asian, Asian British or Asian Welsh   \n",
       "3                   Hartlepool  Asian, Asian British or Asian Welsh   \n",
       "4                   Hartlepool  Asian, Asian British or Asian Welsh   \n",
       "\n",
       "                  Accommodation type   \n",
       "0  Whole house or bungalow: Detached  \\\n",
       "1  Whole house or bungalow: Detached   \n",
       "2  Whole house or bungalow: Detached   \n",
       "3  Whole house or bungalow: Detached   \n",
       "4  Whole house or bungalow: Detached   \n",
       "\n",
       "                                 Tenure of household  Observation  \n",
       "0                               Owned: Owns outright          137  \n",
       "1  Owned: Owns with a mortgage or loan or shared ...          258  \n",
       "2  Social rented: Rents from council or Local Aut...           20  \n",
       "3                 Social rented: Other social rented           11  \n",
       "4  Private rented: Private landlord or letting ag...           44  "
      ]
     },
     "execution_count": 3,
     "metadata": {},
     "output_type": "execute_result"
    }
   ],
   "source": [
    "#checking the top 5 rows\n",
    "accom_df.head(5)\n"
   ]
  },
  {
   "cell_type": "code",
   "execution_count": 4,
   "id": "8be6f237",
   "metadata": {},
   "outputs": [],
   "source": [
    "#pivoting the dataframe to only include the relevant columns for the PCA \n",
    "pivot_accom = accom_df.pivot_table(index='Lower tier local authorities', columns='Accommodation type', values='Observation', aggfunc='mean')\n",
    "pivot_accom = pivot_accom.reset_index()\n",
    "pivot_accom.columns.name = None"
   ]
  },
  {
   "cell_type": "code",
   "execution_count": 6,
   "id": "1edbc54b",
   "metadata": {},
   "outputs": [
    {
     "data": {
      "text/html": [
       "<div>\n",
       "<style scoped>\n",
       "    .dataframe tbody tr th:only-of-type {\n",
       "        vertical-align: middle;\n",
       "    }\n",
       "\n",
       "    .dataframe tbody tr th {\n",
       "        vertical-align: top;\n",
       "    }\n",
       "\n",
       "    .dataframe thead th {\n",
       "        text-align: right;\n",
       "    }\n",
       "</style>\n",
       "<table border=\"1\" class=\"dataframe\">\n",
       "  <thead>\n",
       "    <tr style=\"text-align: right;\">\n",
       "      <th></th>\n",
       "      <th>Lower tier local authorities</th>\n",
       "      <th>A caravan or other mobile or temporary structure</th>\n",
       "      <th>Flat, maisonette or apartment</th>\n",
       "      <th>Whole house or bungalow: Detached</th>\n",
       "      <th>Whole house or bungalow: Semi-detached</th>\n",
       "      <th>Whole house or bungalow: Terraced</th>\n",
       "    </tr>\n",
       "  </thead>\n",
       "  <tbody>\n",
       "    <tr>\n",
       "      <th>0</th>\n",
       "      <td>Adur</td>\n",
       "      <td>21.764706</td>\n",
       "      <td>253.190476</td>\n",
       "      <td>334.000000</td>\n",
       "      <td>632.904762</td>\n",
       "      <td>364.750000</td>\n",
       "    </tr>\n",
       "    <tr>\n",
       "      <th>1</th>\n",
       "      <td>Allerdale</td>\n",
       "      <td>25.384615</td>\n",
       "      <td>132.277778</td>\n",
       "      <td>830.228571</td>\n",
       "      <td>872.205128</td>\n",
       "      <td>692.153846</td>\n",
       "    </tr>\n",
       "    <tr>\n",
       "      <th>2</th>\n",
       "      <td>Amber Valley</td>\n",
       "      <td>27.333333</td>\n",
       "      <td>130.333333</td>\n",
       "      <td>1318.243243</td>\n",
       "      <td>1143.190476</td>\n",
       "      <td>579.025000</td>\n",
       "    </tr>\n",
       "    <tr>\n",
       "      <th>3</th>\n",
       "      <td>Arun</td>\n",
       "      <td>75.300000</td>\n",
       "      <td>618.261905</td>\n",
       "      <td>1418.282051</td>\n",
       "      <td>1051.428571</td>\n",
       "      <td>821.214286</td>\n",
       "    </tr>\n",
       "    <tr>\n",
       "      <th>4</th>\n",
       "      <td>Ashfield</td>\n",
       "      <td>11.000000</td>\n",
       "      <td>169.459459</td>\n",
       "      <td>948.547619</td>\n",
       "      <td>1309.714286</td>\n",
       "      <td>598.975000</td>\n",
       "    </tr>\n",
       "  </tbody>\n",
       "</table>\n",
       "</div>"
      ],
      "text/plain": [
       "  Lower tier local authorities   \n",
       "0                         Adur  \\\n",
       "1                    Allerdale   \n",
       "2                 Amber Valley   \n",
       "3                         Arun   \n",
       "4                     Ashfield   \n",
       "\n",
       "   A caravan or other mobile or temporary structure   \n",
       "0                                         21.764706  \\\n",
       "1                                         25.384615   \n",
       "2                                         27.333333   \n",
       "3                                         75.300000   \n",
       "4                                         11.000000   \n",
       "\n",
       "   Flat, maisonette or apartment  Whole house or bungalow: Detached   \n",
       "0                     253.190476                         334.000000  \\\n",
       "1                     132.277778                         830.228571   \n",
       "2                     130.333333                        1318.243243   \n",
       "3                     618.261905                        1418.282051   \n",
       "4                     169.459459                         948.547619   \n",
       "\n",
       "   Whole house or bungalow: Semi-detached  Whole house or bungalow: Terraced  \n",
       "0                              632.904762                         364.750000  \n",
       "1                              872.205128                         692.153846  \n",
       "2                             1143.190476                         579.025000  \n",
       "3                             1051.428571                         821.214286  \n",
       "4                             1309.714286                         598.975000  "
      ]
     },
     "execution_count": 6,
     "metadata": {},
     "output_type": "execute_result"
    }
   ],
   "source": [
    "#checking top 5 rows \n",
    "pivot_accom.head(5)"
   ]
  },
  {
   "cell_type": "code",
   "execution_count": 7,
   "id": "d1e60e05",
   "metadata": {},
   "outputs": [],
   "source": [
    "#importing relevant libraries\n",
    "import numpy as np\n",
    "from sklearn.decomposition import PCA\n",
    "from sklearn.preprocessing import StandardScaler"
   ]
  },
  {
   "cell_type": "code",
   "execution_count": 8,
   "id": "b37df00b",
   "metadata": {},
   "outputs": [],
   "source": [
    "accom_areas = pivot_accom['Lower tier local authorities']\n",
    "data = pivot_accom.drop('Lower tier local authorities', axis=1).to_numpy()"
   ]
  },
  {
   "cell_type": "code",
   "execution_count": 9,
   "id": "bef808a8",
   "metadata": {},
   "outputs": [],
   "source": [
    "scaler = StandardScaler()\n",
    "data_std = scaler.fit_transform(data)"
   ]
  },
  {
   "cell_type": "code",
   "execution_count": 10,
   "id": "d9075059",
   "metadata": {},
   "outputs": [],
   "source": [
    "pca = PCA(n_components=2)\n",
    "pca_data = pca.fit_transform(data_std)"
   ]
  },
  {
   "cell_type": "code",
   "execution_count": 11,
   "id": "82da659b",
   "metadata": {},
   "outputs": [],
   "source": [
    "pca_df = pd.DataFrame(data=pca_data, columns=['PC1', 'PC2'])"
   ]
  },
  {
   "cell_type": "code",
   "execution_count": 12,
   "id": "bbed0f3f",
   "metadata": {},
   "outputs": [],
   "source": [
    "pca_df['Lower tier local authorities'] = accom_areas"
   ]
  },
  {
   "cell_type": "code",
   "execution_count": 13,
   "id": "a83048db",
   "metadata": {},
   "outputs": [
    {
     "data": {
      "text/html": [
       "<div>\n",
       "<style scoped>\n",
       "    .dataframe tbody tr th:only-of-type {\n",
       "        vertical-align: middle;\n",
       "    }\n",
       "\n",
       "    .dataframe tbody tr th {\n",
       "        vertical-align: top;\n",
       "    }\n",
       "\n",
       "    .dataframe thead th {\n",
       "        text-align: right;\n",
       "    }\n",
       "</style>\n",
       "<table border=\"1\" class=\"dataframe\">\n",
       "  <thead>\n",
       "    <tr style=\"text-align: right;\">\n",
       "      <th></th>\n",
       "      <th>PC1</th>\n",
       "      <th>PC2</th>\n",
       "      <th>Lower tier local authorities</th>\n",
       "    </tr>\n",
       "  </thead>\n",
       "  <tbody>\n",
       "    <tr>\n",
       "      <th>0</th>\n",
       "      <td>-1.499967</td>\n",
       "      <td>-0.442099</td>\n",
       "      <td>Adur</td>\n",
       "    </tr>\n",
       "    <tr>\n",
       "      <th>1</th>\n",
       "      <td>-0.906033</td>\n",
       "      <td>0.012575</td>\n",
       "      <td>Allerdale</td>\n",
       "    </tr>\n",
       "    <tr>\n",
       "      <th>2</th>\n",
       "      <td>-0.558141</td>\n",
       "      <td>0.459174</td>\n",
       "      <td>Amber Valley</td>\n",
       "    </tr>\n",
       "    <tr>\n",
       "      <th>3</th>\n",
       "      <td>-0.157646</td>\n",
       "      <td>1.431821</td>\n",
       "      <td>Arun</td>\n",
       "    </tr>\n",
       "    <tr>\n",
       "      <th>4</th>\n",
       "      <td>-0.671533</td>\n",
       "      <td>-0.243007</td>\n",
       "      <td>Ashfield</td>\n",
       "    </tr>\n",
       "  </tbody>\n",
       "</table>\n",
       "</div>"
      ],
      "text/plain": [
       "        PC1       PC2 Lower tier local authorities\n",
       "0 -1.499967 -0.442099                         Adur\n",
       "1 -0.906033  0.012575                    Allerdale\n",
       "2 -0.558141  0.459174                 Amber Valley\n",
       "3 -0.157646  1.431821                         Arun\n",
       "4 -0.671533 -0.243007                     Ashfield"
      ]
     },
     "execution_count": 13,
     "metadata": {},
     "output_type": "execute_result"
    }
   ],
   "source": [
    "#checking the top 5 rows \n",
    "pca_df.head()"
   ]
  },
  {
   "cell_type": "code",
   "execution_count": 14,
   "id": "2a9438fb",
   "metadata": {},
   "outputs": [],
   "source": [
    "#saving the PCA data to a csv file so that it can be used in Tableau - this code can be commented out\n",
    "#pca_df.to_csv('PCA.csv', index=False)"
   ]
  },
  {
   "cell_type": "code",
   "execution_count": 16,
   "id": "fdadf9ba",
   "metadata": {},
   "outputs": [
    {
     "data": {
      "image/png": "[encoded data removed]",
      "text/plain": [
       "<Figure size 576x432 with 1 Axes>"
      ]
     },
     "metadata": {
      "needs_background": "light"
     },
     "output_type": "display_data"
    }
   ],
   "source": [
    "#importing matplotlib to create the plot \n",
    "import matplotlib.pyplot as plt\n",
    "#saving the pca dataframe to only include the relevant data for the plot\n",
    "pca_df = pd.DataFrame(data=pca_df, columns=['PC1', 'PC2'])\n",
    "\n",
    "#plotting the PCA \n",
    "plt.figure(figsize=(8,6))\n",
    "plt.scatter(pca_df['PC1'], pca_df['PC2'], alpha=0.5)\n",
    "plt.title('PCA plot')\n",
    "plt.xlabel('First Principal Component - PC1')\n",
    "plt.ylabel('Second Principal Component - PC2')\n",
    "plt.show()\n"
   ]
  },
  {
   "cell_type": "code",
   "execution_count": null,
   "id": "75de7ea8",
   "metadata": {},
   "outputs": [],
   "source": []
  },
  {
   "cell_type": "code",
   "execution_count": null,
   "id": "2cf32a64",
   "metadata": {},
   "outputs": [],
   "source": []
  }
 ],
 "metadata": {
  "kernelspec": {
   "display_name": "Python 3 (ipykernel)",
   "language": "python",
   "name": "python3"
  },
  "language_info": {
   "codemirror_mode": {
    "name": "ipython",
    "version": 3
   },
   "file_extension": ".py",
   "mimetype": "text/x-python",
   "name": "python",
   "nbconvert_exporter": "python",
   "pygments_lexer": "ipython3",
   "version": "3.9.12"
  }
 },
 "nbformat": 4,
 "nbformat_minor": 5
}

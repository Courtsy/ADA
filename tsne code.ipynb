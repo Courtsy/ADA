{
 "cells": [
  {
   "cell_type": "markdown",
   "id": "acca4288",
   "metadata": {},
   "source": [
    "# Code for my first projection -  t-SNE"
   ]
  },
  {
   "cell_type": "code",
   "execution_count": 3,
   "id": "07182aae",
   "metadata": {},
   "outputs": [],
   "source": [
    "#importing pandas\n",
    "import pandas as pd\n",
    "#loading my preprocessed csv file and savin it as a dataframe\n",
    "occu_df = pd.read_csv('new code for pca.csv', low_memory=False)\n",
    "\n",
    "#dropping all values for na\n",
    "occu_df = occu_df.dropna()\n",
    "\n"
   ]
  },
  {
   "cell_type": "code",
   "execution_count": 5,
   "id": "c22f5daf",
   "metadata": {},
   "outputs": [
    {
     "data": {
      "text/html": [
       "<div>\n",
       "<style scoped>\n",
       "    .dataframe tbody tr th:only-of-type {\n",
       "        vertical-align: middle;\n",
       "    }\n",
       "\n",
       "    .dataframe tbody tr th {\n",
       "        vertical-align: top;\n",
       "    }\n",
       "\n",
       "    .dataframe thead th {\n",
       "        text-align: right;\n",
       "    }\n",
       "</style>\n",
       "<table border=\"1\" class=\"dataframe\">\n",
       "  <thead>\n",
       "    <tr style=\"text-align: right;\">\n",
       "      <th></th>\n",
       "      <th>Lower tier local authorities</th>\n",
       "      <th>Ethnic group</th>\n",
       "      <th>Highest level of qualification</th>\n",
       "      <th>Occupation</th>\n",
       "      <th>Sex</th>\n",
       "      <th>Observation</th>\n",
       "    </tr>\n",
       "  </thead>\n",
       "  <tbody>\n",
       "    <tr>\n",
       "      <th>0</th>\n",
       "      <td>Middlesbrough</td>\n",
       "      <td>Asian, Asian British or Asian Welsh</td>\n",
       "      <td>No qualifications</td>\n",
       "      <td>Managers, directors and senior officials</td>\n",
       "      <td>Female</td>\n",
       "      <td>21.0</td>\n",
       "    </tr>\n",
       "    <tr>\n",
       "      <th>1</th>\n",
       "      <td>Middlesbrough</td>\n",
       "      <td>Asian, Asian British or Asian Welsh</td>\n",
       "      <td>No qualifications</td>\n",
       "      <td>Managers, directors and senior officials</td>\n",
       "      <td>Male</td>\n",
       "      <td>50.0</td>\n",
       "    </tr>\n",
       "    <tr>\n",
       "      <th>2</th>\n",
       "      <td>Middlesbrough</td>\n",
       "      <td>Asian, Asian British or Asian Welsh</td>\n",
       "      <td>No qualifications</td>\n",
       "      <td>Professional occupations</td>\n",
       "      <td>Female</td>\n",
       "      <td>9.0</td>\n",
       "    </tr>\n",
       "    <tr>\n",
       "      <th>3</th>\n",
       "      <td>Middlesbrough</td>\n",
       "      <td>Asian, Asian British or Asian Welsh</td>\n",
       "      <td>No qualifications</td>\n",
       "      <td>Professional occupations</td>\n",
       "      <td>Male</td>\n",
       "      <td>6.0</td>\n",
       "    </tr>\n",
       "    <tr>\n",
       "      <th>4</th>\n",
       "      <td>Middlesbrough</td>\n",
       "      <td>Asian, Asian British or Asian Welsh</td>\n",
       "      <td>No qualifications</td>\n",
       "      <td>Associate professional and technical occupations</td>\n",
       "      <td>Female</td>\n",
       "      <td>12.0</td>\n",
       "    </tr>\n",
       "  </tbody>\n",
       "</table>\n",
       "</div>"
      ],
      "text/plain": [
       "  Lower tier local authorities                         Ethnic group   \n",
       "0                Middlesbrough  Asian, Asian British or Asian Welsh  \\\n",
       "1                Middlesbrough  Asian, Asian British or Asian Welsh   \n",
       "2                Middlesbrough  Asian, Asian British or Asian Welsh   \n",
       "3                Middlesbrough  Asian, Asian British or Asian Welsh   \n",
       "4                Middlesbrough  Asian, Asian British or Asian Welsh   \n",
       "\n",
       "  Highest level of qualification   \n",
       "0              No qualifications  \\\n",
       "1              No qualifications   \n",
       "2              No qualifications   \n",
       "3              No qualifications   \n",
       "4              No qualifications   \n",
       "\n",
       "                                         Occupation     Sex  Observation  \n",
       "0          Managers, directors and senior officials  Female         21.0  \n",
       "1          Managers, directors and senior officials    Male         50.0  \n",
       "2                          Professional occupations  Female          9.0  \n",
       "3                          Professional occupations    Male          6.0  \n",
       "4  Associate professional and technical occupations  Female         12.0  "
      ]
     },
     "execution_count": 5,
     "metadata": {},
     "output_type": "execute_result"
    }
   ],
   "source": [
    "#checking the first 5 rows of the dataframe \n",
    "occu_df.head()"
   ]
  },
  {
   "cell_type": "code",
   "execution_count": 6,
   "id": "91d7e3ad",
   "metadata": {},
   "outputs": [],
   "source": [
    "#calculating the total number of observations for each occupation\n",
    "occupation_total = occu_df.groupby('Occupation').sum()['Observation']"
   ]
  },
  {
   "cell_type": "code",
   "execution_count": 7,
   "id": "fe7e5397",
   "metadata": {},
   "outputs": [
    {
     "name": "stdout",
     "output_type": "stream",
     "text": [
      "Occupation\n",
      "Administrative and secretarial occupations          2328559.0\n",
      "Associate professional and technical occupations    3344595.0\n",
      "Caring, leisure and other service occupations       2328827.0\n",
      "Elementary occupations                              2628028.0\n",
      "Managers, directors and senior officials            3218115.0\n",
      "Process, plant and machine operatives               1728504.0\n",
      "Professional occupations                            5163322.0\n",
      "Sales and customer service occupations              1883336.0\n",
      "Skilled trades occupations                          2499299.0\n",
      "Name: Observation, dtype: float64\n"
     ]
    }
   ],
   "source": [
    "#checking the results\n",
    "print(occupation_total)"
   ]
  },
  {
   "cell_type": "code",
   "execution_count": 8,
   "id": "a3c63167",
   "metadata": {},
   "outputs": [],
   "source": [
    "#grouping the dataframe by the specified columns and calculating the sum of observations for that column\n",
    "grouped_all = occu_df.groupby(['Lower tier local authorities', 'Ethnic group', 'Highest level of qualification', 'Occupation', 'Sex']).sum()['Observation']"
   ]
  },
  {
   "cell_type": "code",
   "execution_count": 9,
   "id": "fa451bb9",
   "metadata": {},
   "outputs": [
    {
     "name": "stdout",
     "output_type": "stream",
     "text": [
      "Lower tier local authorities  Ethnic group                         Highest level of qualification                                                                                                                                                                             Occupation                                     Sex   \n",
      "Amber Valley                  Asian, Asian British or Asian Welsh  Level 1 and entry level qualifications: 1 to 4 GCSEs grade A* to C, Any GCSEs at other grades, O levels or CSEs (any grades), 1 AS level, NVQ level 1, Foundation GNVQ, Basic or Essential Skills          Administrative and secretarial occupations     Female    4.0\n",
      "                                                                                                                                                                                                                                                                              Caring, leisure and other service occupations  Female    2.0\n",
      "                                                                                                                                                                                                                                                                                                                             Male      6.0\n",
      "                                                                                                                                                                                                                                                                              Elementary occupations                         Female    4.0\n",
      "                                                                                                                                                                                                                                                                                                                             Male      6.0\n",
      "                                                                                                                                                                                                                                                                                                                                      ... \n",
      "York                          White: Irish                         Other: apprenticeships, vocational or work-related qualifications, other qualifications achieved in England or Wales, qualifications achieved outside England or Wales (equivalent not stated or unknown)  Elementary occupations                         Male      1.0\n",
      "                                                                                                                                                                                                                                                                              Managers, directors and senior officials       Female    1.0\n",
      "                                                                                                                                                                                                                                                                                                                             Male      3.0\n",
      "                                                                                                                                                                                                                                                                              Professional occupations                       Male      1.0\n",
      "                                                                                                                                                                                                                                                                              Skilled trades occupations                     Male      8.0\n",
      "Name: Observation, Length: 179997, dtype: float64\n"
     ]
    }
   ],
   "source": [
    "#printing the results\n",
    "print(grouped_all)"
   ]
  },
  {
   "cell_type": "code",
   "execution_count": 10,
   "id": "85a65280",
   "metadata": {},
   "outputs": [],
   "source": [
    "#importing relevant modules that allow me to encode the categorical columns for the model\n",
    "from sklearn.preprocessing import StandardScaler, LabelEncoder\n",
    "\n",
    "#instantiating the encoder \n",
    "Encoder = LabelEncoder()\n",
    "#encoding the columns to be replaced with numerical labels for the model\n",
    "occu_df['Lower tier local authorities'] = Encoder.fit_transform(occu_df['Lower tier local authorities'])\n",
    "occu_df['Ethnic group'] = Encoder.fit_transform(occu_df['Ethnic group'])\n",
    "occu_df['Highest level of qualification'] = Encoder.fit_transform(occu_df['Highest level of qualification'])\n",
    "occu_df['Occupation'] = Encoder.fit_transform(occu_df['Occupation'])\n",
    "occu_df['Sex'] = Encoder.fit_transform(occu_df['Sex'])"
   ]
  },
  {
   "cell_type": "code",
   "execution_count": 12,
   "id": "f9f03767",
   "metadata": {},
   "outputs": [],
   "source": [
    "#instantiating the scaler\n",
    "scaler = StandardScaler()\n",
    "#standardising the values in the observation column so that the numerical column of my dataset is normalised\n",
    "occu_df['Observation'] = scaler.fit_transform(occu_df['Observation'].values.reshape(-1, 1))"
   ]
  },
  {
   "cell_type": "code",
   "execution_count": 14,
   "id": "125361c1",
   "metadata": {
    "scrolled": true
   },
   "outputs": [
    {
     "name": "stderr",
     "output_type": "stream",
     "text": [
      "/Users/thomascourts/opt/anaconda3/lib/python3.9/site-packages/sklearn/manifold/_t_sne.py:780: FutureWarning: The default initialization in TSNE will change from 'random' to 'pca' in 1.2.\n",
      "  warnings.warn(\n",
      "/Users/thomascourts/opt/anaconda3/lib/python3.9/site-packages/sklearn/manifold/_t_sne.py:790: FutureWarning: The default learning rate in TSNE will change from 200.0 to 'auto' in 1.2.\n",
      "  warnings.warn(\n"
     ]
    }
   ],
   "source": [
    "#importing the TSNE library\n",
    "from sklearn.manifold import TSNE\n",
    "\n",
    "#fitting the TSNE model on the data - this code can take up to 15 minutes to process\n",
    "tsne = TSNE(n_components=2, random_state=42)\n",
    "projected_occu = tsne.fit_transform(occu_df)\n",
    "\n",
    "#project the data onto a 2-D matrix \n",
    "projected_occu = pd.DataFrame(projected_occu, columns=['TSNE-1', 'TSNE-2'])"
   ]
  },
  {
   "cell_type": "code",
   "execution_count": null,
   "id": "acdfc8b9",
   "metadata": {},
   "outputs": [],
   "source": [
    "#saving the t-SNE data to a CSV file to be used in Tableau\n",
    "#occu_tsne.to_csv('tsne_results.csv', index=False)\n"
   ]
  },
  {
   "cell_type": "code",
   "execution_count": null,
   "id": "4c99b5f0",
   "metadata": {},
   "outputs": [],
   "source": []
  }
 ],
 "metadata": {
  "kernelspec": {
   "display_name": "Python 3 (ipykernel)",
   "language": "python",
   "name": "python3"
  },
  "language_info": {
   "codemirror_mode": {
    "name": "ipython",
    "version": 3
   },
   "file_extension": ".py",
   "mimetype": "text/x-python",
   "name": "python",
   "nbconvert_exporter": "python",
   "pygments_lexer": "ipython3",
   "version": "3.9.12"
  }
 },
 "nbformat": 4,
 "nbformat_minor": 5
}
